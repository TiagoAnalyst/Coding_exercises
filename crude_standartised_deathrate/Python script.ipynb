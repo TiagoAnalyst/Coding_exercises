{
 "cells": [
  {
   "cell_type": "markdown",
   "id": "af302271",
   "metadata": {},
   "source": [
    "# Data analysis exercise: Our World in Data\n",
    "\n",
    "<hr style = \"border: 6.0px solid navy; width:100%;\"></hr>\n",
    "\n",
    "## Dear line manager,\n",
    "\n",
    "### To calculate the crude death rate for COPD for all ages in both the United States and Uganda for 2019, the following methodology was used: \n",
    "\n",
    "1) Download of a database (from population.un.org) with the total population and total deaths for both countries for 2019\n",
    "2) Extract of the database columns essential to this topic\n",
    "3) The crude death rate per country was calculated according to the following formula:\n",
    "\n",
    "    *Crude Death rate (per 100,000 people) = (Deaths/Total Population) * 100,000\n",
    "\n",
    "### To calculate the age-standardized death rate for COPD for all ages in both the United States and Uganda for 2019, the following methodology was used: \n",
    "\n",
    "1) Download of a database (from population.un.org) with the total population per age group for both countries for 2019\n",
    "2) Extract of the database columns essential to this topic\n",
    "3) As the csv file was too big to store it on Github, surplus data was removed using Excel. Data misformat was observed but corrected using pandas.\n",
    "4) Creation of the \"Table of age-specific death rates of COPD\" - using the data in this exercise heading\n",
    "5) As there were more age groups in the database 1) compared with the table 3), the age groups [85-89],[90-94],[95-99] and [100+] and respective population were compacted into only one Age Group [85+]\n",
    "6) The age-standardized death rate per country was calculated according to the following formula:\n",
    "\n",
    "    *Age standartized rate (per 100,000 people) = (Age specific death rate) * (Standart population per age group)/(Standart population) *1000 \n",
    "\n",
    "<hr style = \"border: 6.0px solid navy; width:100%;\"></hr>"
   ]
  },
  {
   "cell_type": "markdown",
   "id": "548d0e69",
   "metadata": {},
   "source": [
    "## Import Libraries"
   ]
  },
  {
   "cell_type": "code",
   "execution_count": 14,
   "id": "ba598892",
   "metadata": {},
   "outputs": [],
   "source": [
    "import pandas as pd\n",
    "import numpy as np\n",
    "pd.options.mode.copy_on_write = True"
   ]
  },
  {
   "cell_type": "markdown",
   "id": "73c305d2",
   "metadata": {},
   "source": [
    "## Calculation of the crude death rate for COPD for all ages in both the United States and Uganda for 2019."
   ]
  },
  {
   "cell_type": "markdown",
   "id": "d195cff1",
   "metadata": {},
   "source": [
    "A) Download of the database - link used: https://population.un.org/wpp/Download/Standard/CSV/ and the file downloaded was the \"1950-2100\" zip file from the row \"Demographic Indicators\".According to the database description, the unit values are in thousands. File was then uploaded to my Github to be always accessible."
   ]
  },
  {
   "cell_type": "code",
   "execution_count": 6,
   "id": "10f5119a",
   "metadata": {},
   "outputs": [
    {
     "data": {
      "text/plain": [
       "Index(['SortOrder', 'LocID', 'Notes', 'ISO3_code', 'ISO2_code', 'SDMX_code',\n",
       "       'LocTypeID', 'LocTypeName', 'ParentID', 'Location', 'VarID', 'Variant',\n",
       "       'Time', 'TPopulation1Jan', 'TPopulation1July', 'TPopulationMale1July',\n",
       "       'TPopulationFemale1July', 'PopDensity', 'PopSexRatio', 'MedianAgePop',\n",
       "       'NatChange', 'NatChangeRT', 'PopChange', 'PopGrowthRate',\n",
       "       'DoublingTime', 'Births', 'Births1519', 'CBR', 'TFR', 'NRR', 'MAC',\n",
       "       'SRB', 'Deaths', 'DeathsMale', 'DeathsFemale', 'CDR', 'LEx', 'LExMale',\n",
       "       'LExFemale', 'LE15', 'LE15Male', 'LE15Female', 'LE65', 'LE65Male',\n",
       "       'LE65Female', 'LE80', 'LE80Male', 'LE80Female', 'InfantDeaths', 'IMR',\n",
       "       'LBsurvivingAge1', 'Under5Deaths', 'Q5', 'Q0040', 'Q0040Male',\n",
       "       'Q0040Female', 'Q0060', 'Q0060Male', 'Q0060Female', 'Q1550',\n",
       "       'Q1550Male', 'Q1550Female', 'Q1560', 'Q1560Male', 'Q1560Female',\n",
       "       'NetMigrations', 'CNMR'],\n",
       "      dtype='object')"
      ]
     },
     "execution_count": 6,
     "metadata": {},
     "output_type": "execute_result"
    }
   ],
   "source": [
    "url = 'https://github.com/TiagoDataAnalyst/Others/blob/main/WPP2022_Demographic_Indicators_Medium.csv?raw=true'\n",
    "database = pd.read_csv(url, low_memory=False)\n",
    "database.columns"
   ]
  },
  {
   "cell_type": "markdown",
   "id": "75da8499",
   "metadata": {},
   "source": [
    "B) Extract of the database columns essential to this topic"
   ]
  },
  {
   "cell_type": "code",
   "execution_count": 55,
   "id": "c4ede04e",
   "metadata": {},
   "outputs": [
    {
     "data": {
      "text/html": [
       "<div>\n",
       "<style scoped>\n",
       "    .dataframe tbody tr th:only-of-type {\n",
       "        vertical-align: middle;\n",
       "    }\n",
       "\n",
       "    .dataframe tbody tr th {\n",
       "        vertical-align: top;\n",
       "    }\n",
       "\n",
       "    .dataframe thead th {\n",
       "        text-align: right;\n",
       "    }\n",
       "</style>\n",
       "<table border=\"1\" class=\"dataframe\">\n",
       "  <thead>\n",
       "    <tr style=\"text-align: right;\">\n",
       "      <th></th>\n",
       "      <th>Time</th>\n",
       "      <th>Deaths</th>\n",
       "      <th>TPopulation1Jan</th>\n",
       "    </tr>\n",
       "    <tr>\n",
       "      <th>Location</th>\n",
       "      <th></th>\n",
       "      <th></th>\n",
       "      <th></th>\n",
       "    </tr>\n",
       "  </thead>\n",
       "  <tbody>\n",
       "    <tr>\n",
       "      <th>Uganda</th>\n",
       "      <td>2019</td>\n",
       "      <td>249.857</td>\n",
       "      <td>42212.297</td>\n",
       "    </tr>\n",
       "    <tr>\n",
       "      <th>United States of America</th>\n",
       "      <td>2019</td>\n",
       "      <td>2778.148</td>\n",
       "      <td>333251.103</td>\n",
       "    </tr>\n",
       "  </tbody>\n",
       "</table>\n",
       "</div>"
      ],
      "text/plain": [
       "                          Time    Deaths  TPopulation1Jan\n",
       "Location                                                 \n",
       "Uganda                    2019   249.857        42212.297\n",
       "United States of America  2019  2778.148       333251.103"
      ]
     },
     "execution_count": 55,
     "metadata": {},
     "output_type": "execute_result"
    }
   ],
   "source": [
    "data_cols_need = database[['Location'\n",
    "                          ,'Time'\n",
    "                          ,'Deaths'\n",
    "                          ,'TPopulation1Jan']\n",
    "                          ].set_index('Location')\n",
    "\n",
    "data_filt_bycountry = data_cols_need.loc[((data_cols_need.index == 'United States of America') \n",
    "                                        |(data_cols_need.index == 'Uganda')) \n",
    "                                        & (data_cols_need['Time'] == 2019)\n",
    "                                        ]\n",
    "\n",
    "data_filt_bycountry"
   ]
  },
  {
   "cell_type": "markdown",
   "id": "81f81a69",
   "metadata": {},
   "source": [
    "C) Calculation of the crude death rate per country "
   ]
  },
  {
   "cell_type": "code",
   "execution_count": 19,
   "id": "2b059671",
   "metadata": {},
   "outputs": [
    {
     "data": {
      "text/plain": [
       "Location\n",
       "Uganda                      591.9\n",
       "United States of America    833.7\n",
       "Name: crude_death_rate (per 100,000), dtype: float64"
      ]
     },
     "execution_count": 19,
     "metadata": {},
     "output_type": "execute_result"
    }
   ],
   "source": [
    "data_filt_bycountry['crude_death_rate (per 100,000)'] = ((data_filt_bycountry['Deaths']/data_filt_bycountry['TPopulation1Jan'])*100000).round(1)\n",
    "data_filt_bycountry['crude_death_rate (per 100,000)']"
   ]
  },
  {
   "cell_type": "markdown",
   "id": "69325521",
   "metadata": {},
   "source": [
    "<hr style = \"border: 6.0px solid navy; width:100%;\"></hr>\n",
    "\n",
    "## Calculation of the age-standardized death rate for COPD for all ages in both the United States and Uganda for 2019."
   ]
  },
  {
   "cell_type": "markdown",
   "id": "48e07171",
   "metadata": {},
   "source": [
    "1) Download of a database (from population.un.org) link used: https://population.un.org/wpp/Download/Standard/CSV/ ; file downloaded was the \"1950-2100\" zip file in row \"Population\" and with description \"Population on 01 January, by 5-year age groups.\" According to the database description, the unit values are in thousands"
   ]
  },
  {
   "cell_type": "code",
   "execution_count": 20,
   "id": "8754858f",
   "metadata": {},
   "outputs": [
    {
     "data": {
      "text/plain": [
       "Index(['SortOrder', 'LocID', 'Notes', 'ISO3_code', 'ISO2_code', 'SDMX_code',\n",
       "       'LocTypeID', 'LocTypeName', 'ParentID', 'Location', 'VarID', 'Variant',\n",
       "       'Time', 'MidPeriod', 'AgeGrp', 'AgeGrpStart', 'AgeGrpSpan', 'PopMale',\n",
       "       'PopFemale', 'PopTotal'],\n",
       "      dtype='object')"
      ]
     },
     "execution_count": 20,
     "metadata": {},
     "output_type": "execute_result"
    }
   ],
   "source": [
    "url2 = 'https://github.com/TiagoDataAnalyst/Others/blob/main/WPP2022_Population1JanuaryByAge5GroupSex_Medium.csv?raw=true'\n",
    "Database2 = pd.read_csv(url2, low_memory=False)\n",
    "Database2.columns"
   ]
  },
  {
   "cell_type": "markdown",
   "id": "50218458",
   "metadata": {},
   "source": [
    "2) Extract of the database columns essential to this topic"
   ]
  },
  {
   "cell_type": "code",
   "execution_count": 21,
   "id": "8acaeea3",
   "metadata": {},
   "outputs": [
    {
     "data": {
      "text/html": [
       "<div>\n",
       "<style scoped>\n",
       "    .dataframe tbody tr th:only-of-type {\n",
       "        vertical-align: middle;\n",
       "    }\n",
       "\n",
       "    .dataframe tbody tr th {\n",
       "        vertical-align: top;\n",
       "    }\n",
       "\n",
       "    .dataframe thead th {\n",
       "        text-align: right;\n",
       "    }\n",
       "</style>\n",
       "<table border=\"1\" class=\"dataframe\">\n",
       "  <thead>\n",
       "    <tr style=\"text-align: right;\">\n",
       "      <th></th>\n",
       "      <th>Location</th>\n",
       "      <th>PopTotal</th>\n",
       "      <th>AgeGrp</th>\n",
       "    </tr>\n",
       "  </thead>\n",
       "  <tbody>\n",
       "    <tr>\n",
       "      <th>200</th>\n",
       "      <td>Uganda</td>\n",
       "      <td>7244.221</td>\n",
       "      <td>0-4</td>\n",
       "    </tr>\n",
       "    <tr>\n",
       "      <th>201</th>\n",
       "      <td>Uganda</td>\n",
       "      <td>6551.165</td>\n",
       "      <td>05-Sep</td>\n",
       "    </tr>\n",
       "    <tr>\n",
       "      <th>202</th>\n",
       "      <td>Uganda</td>\n",
       "      <td>5830.086</td>\n",
       "      <td>Oct-14</td>\n",
       "    </tr>\n",
       "    <tr>\n",
       "      <th>203</th>\n",
       "      <td>Uganda</td>\n",
       "      <td>5067.026</td>\n",
       "      <td>15-19</td>\n",
       "    </tr>\n",
       "    <tr>\n",
       "      <th>204</th>\n",
       "      <td>Uganda</td>\n",
       "      <td>4264.126</td>\n",
       "      <td>20-24</td>\n",
       "    </tr>\n",
       "    <tr>\n",
       "      <th>205</th>\n",
       "      <td>Uganda</td>\n",
       "      <td>3404.442</td>\n",
       "      <td>25-29</td>\n",
       "    </tr>\n",
       "    <tr>\n",
       "      <th>206</th>\n",
       "      <td>Uganda</td>\n",
       "      <td>2532.182</td>\n",
       "      <td>30-34</td>\n",
       "    </tr>\n",
       "    <tr>\n",
       "      <th>207</th>\n",
       "      <td>Uganda</td>\n",
       "      <td>1851.236</td>\n",
       "      <td>35-39</td>\n",
       "    </tr>\n",
       "    <tr>\n",
       "      <th>208</th>\n",
       "      <td>Uganda</td>\n",
       "      <td>1475.060</td>\n",
       "      <td>40-44</td>\n",
       "    </tr>\n",
       "    <tr>\n",
       "      <th>209</th>\n",
       "      <td>Uganda</td>\n",
       "      <td>1213.931</td>\n",
       "      <td>45-49</td>\n",
       "    </tr>\n",
       "    <tr>\n",
       "      <th>210</th>\n",
       "      <td>Uganda</td>\n",
       "      <td>928.466</td>\n",
       "      <td>50-54</td>\n",
       "    </tr>\n",
       "    <tr>\n",
       "      <th>211</th>\n",
       "      <td>Uganda</td>\n",
       "      <td>670.962</td>\n",
       "      <td>55-59</td>\n",
       "    </tr>\n",
       "    <tr>\n",
       "      <th>212</th>\n",
       "      <td>Uganda</td>\n",
       "      <td>489.872</td>\n",
       "      <td>60-64</td>\n",
       "    </tr>\n",
       "    <tr>\n",
       "      <th>213</th>\n",
       "      <td>Uganda</td>\n",
       "      <td>346.978</td>\n",
       "      <td>65-69</td>\n",
       "    </tr>\n",
       "    <tr>\n",
       "      <th>214</th>\n",
       "      <td>Uganda</td>\n",
       "      <td>187.581</td>\n",
       "      <td>70-74</td>\n",
       "    </tr>\n",
       "    <tr>\n",
       "      <th>215</th>\n",
       "      <td>Uganda</td>\n",
       "      <td>91.499</td>\n",
       "      <td>75-79</td>\n",
       "    </tr>\n",
       "    <tr>\n",
       "      <th>216</th>\n",
       "      <td>Uganda</td>\n",
       "      <td>43.954</td>\n",
       "      <td>80-84</td>\n",
       "    </tr>\n",
       "    <tr>\n",
       "      <th>217</th>\n",
       "      <td>Uganda</td>\n",
       "      <td>15.380</td>\n",
       "      <td>85-89</td>\n",
       "    </tr>\n",
       "    <tr>\n",
       "      <th>218</th>\n",
       "      <td>Uganda</td>\n",
       "      <td>3.484</td>\n",
       "      <td>90-94</td>\n",
       "    </tr>\n",
       "    <tr>\n",
       "      <th>219</th>\n",
       "      <td>Uganda</td>\n",
       "      <td>0.561</td>\n",
       "      <td>95-99</td>\n",
       "    </tr>\n",
       "    <tr>\n",
       "      <th>220</th>\n",
       "      <td>Uganda</td>\n",
       "      <td>0.085</td>\n",
       "      <td>100+</td>\n",
       "    </tr>\n",
       "    <tr>\n",
       "      <th>242</th>\n",
       "      <td>United States of America</td>\n",
       "      <td>19960.257</td>\n",
       "      <td>0-4</td>\n",
       "    </tr>\n",
       "    <tr>\n",
       "      <th>243</th>\n",
       "      <td>United States of America</td>\n",
       "      <td>20732.962</td>\n",
       "      <td>05-Sep</td>\n",
       "    </tr>\n",
       "    <tr>\n",
       "      <th>244</th>\n",
       "      <td>United States of America</td>\n",
       "      <td>22052.246</td>\n",
       "      <td>Oct-14</td>\n",
       "    </tr>\n",
       "    <tr>\n",
       "      <th>245</th>\n",
       "      <td>United States of America</td>\n",
       "      <td>21839.549</td>\n",
       "      <td>15-19</td>\n",
       "    </tr>\n",
       "    <tr>\n",
       "      <th>246</th>\n",
       "      <td>United States of America</td>\n",
       "      <td>21896.017</td>\n",
       "      <td>20-24</td>\n",
       "    </tr>\n",
       "    <tr>\n",
       "      <th>247</th>\n",
       "      <td>United States of America</td>\n",
       "      <td>23475.072</td>\n",
       "      <td>25-29</td>\n",
       "    </tr>\n",
       "    <tr>\n",
       "      <th>248</th>\n",
       "      <td>United States of America</td>\n",
       "      <td>22665.777</td>\n",
       "      <td>30-34</td>\n",
       "    </tr>\n",
       "    <tr>\n",
       "      <th>249</th>\n",
       "      <td>United States of America</td>\n",
       "      <td>22209.426</td>\n",
       "      <td>35-39</td>\n",
       "    </tr>\n",
       "    <tr>\n",
       "      <th>250</th>\n",
       "      <td>United States of America</td>\n",
       "      <td>20510.398</td>\n",
       "      <td>40-44</td>\n",
       "    </tr>\n",
       "    <tr>\n",
       "      <th>251</th>\n",
       "      <td>United States of America</td>\n",
       "      <td>21391.729</td>\n",
       "      <td>45-49</td>\n",
       "    </tr>\n",
       "    <tr>\n",
       "      <th>252</th>\n",
       "      <td>United States of America</td>\n",
       "      <td>21431.081</td>\n",
       "      <td>50-54</td>\n",
       "    </tr>\n",
       "    <tr>\n",
       "      <th>253</th>\n",
       "      <td>United States of America</td>\n",
       "      <td>22358.286</td>\n",
       "      <td>55-59</td>\n",
       "    </tr>\n",
       "    <tr>\n",
       "      <th>254</th>\n",
       "      <td>United States of America</td>\n",
       "      <td>20792.605</td>\n",
       "      <td>60-64</td>\n",
       "    </tr>\n",
       "    <tr>\n",
       "      <th>255</th>\n",
       "      <td>United States of America</td>\n",
       "      <td>17053.823</td>\n",
       "      <td>65-69</td>\n",
       "    </tr>\n",
       "    <tr>\n",
       "      <th>256</th>\n",
       "      <td>United States of America</td>\n",
       "      <td>13482.850</td>\n",
       "      <td>70-74</td>\n",
       "    </tr>\n",
       "    <tr>\n",
       "      <th>257</th>\n",
       "      <td>United States of America</td>\n",
       "      <td>9122.278</td>\n",
       "      <td>75-79</td>\n",
       "    </tr>\n",
       "    <tr>\n",
       "      <th>258</th>\n",
       "      <td>United States of America</td>\n",
       "      <td>6058.715</td>\n",
       "      <td>80-84</td>\n",
       "    </tr>\n",
       "    <tr>\n",
       "      <th>259</th>\n",
       "      <td>United States of America</td>\n",
       "      <td>3990.207</td>\n",
       "      <td>85-89</td>\n",
       "    </tr>\n",
       "    <tr>\n",
       "      <th>260</th>\n",
       "      <td>United States of America</td>\n",
       "      <td>1632.416</td>\n",
       "      <td>90-94</td>\n",
       "    </tr>\n",
       "    <tr>\n",
       "      <th>261</th>\n",
       "      <td>United States of America</td>\n",
       "      <td>519.531</td>\n",
       "      <td>95-99</td>\n",
       "    </tr>\n",
       "    <tr>\n",
       "      <th>262</th>\n",
       "      <td>United States of America</td>\n",
       "      <td>75.878</td>\n",
       "      <td>100+</td>\n",
       "    </tr>\n",
       "  </tbody>\n",
       "</table>\n",
       "</div>"
      ],
      "text/plain": [
       "                     Location   PopTotal  AgeGrp\n",
       "200                    Uganda   7244.221     0-4\n",
       "201                    Uganda   6551.165  05-Sep\n",
       "202                    Uganda   5830.086  Oct-14\n",
       "203                    Uganda   5067.026   15-19\n",
       "204                    Uganda   4264.126   20-24\n",
       "205                    Uganda   3404.442   25-29\n",
       "206                    Uganda   2532.182   30-34\n",
       "207                    Uganda   1851.236   35-39\n",
       "208                    Uganda   1475.060   40-44\n",
       "209                    Uganda   1213.931   45-49\n",
       "210                    Uganda    928.466   50-54\n",
       "211                    Uganda    670.962   55-59\n",
       "212                    Uganda    489.872   60-64\n",
       "213                    Uganda    346.978   65-69\n",
       "214                    Uganda    187.581   70-74\n",
       "215                    Uganda     91.499   75-79\n",
       "216                    Uganda     43.954   80-84\n",
       "217                    Uganda     15.380   85-89\n",
       "218                    Uganda      3.484   90-94\n",
       "219                    Uganda      0.561   95-99\n",
       "220                    Uganda      0.085    100+\n",
       "242  United States of America  19960.257     0-4\n",
       "243  United States of America  20732.962  05-Sep\n",
       "244  United States of America  22052.246  Oct-14\n",
       "245  United States of America  21839.549   15-19\n",
       "246  United States of America  21896.017   20-24\n",
       "247  United States of America  23475.072   25-29\n",
       "248  United States of America  22665.777   30-34\n",
       "249  United States of America  22209.426   35-39\n",
       "250  United States of America  20510.398   40-44\n",
       "251  United States of America  21391.729   45-49\n",
       "252  United States of America  21431.081   50-54\n",
       "253  United States of America  22358.286   55-59\n",
       "254  United States of America  20792.605   60-64\n",
       "255  United States of America  17053.823   65-69\n",
       "256  United States of America  13482.850   70-74\n",
       "257  United States of America   9122.278   75-79\n",
       "258  United States of America   6058.715   80-84\n",
       "259  United States of America   3990.207   85-89\n",
       "260  United States of America   1632.416   90-94\n",
       "261  United States of America    519.531   95-99\n",
       "262  United States of America     75.878    100+"
      ]
     },
     "execution_count": 21,
     "metadata": {},
     "output_type": "execute_result"
    }
   ],
   "source": [
    "Database2=Database2[['Location','PopTotal','AgeGrp']]\n",
    "age_stand_data_need = Database2.loc[(Database2['Location'] == 'United States of America') | (Database2['Location'] =='Uganda')]\n",
    "age_stand_data_need"
   ]
  },
  {
   "cell_type": "markdown",
   "id": "390e6cf1",
   "metadata": {},
   "source": [
    "3) As the csv file was too big to store it on Github, surplus data was removed using Excel. Data misformat was observed but corrected using pandas."
   ]
  },
  {
   "cell_type": "code",
   "execution_count": 22,
   "id": "748115d6",
   "metadata": {},
   "outputs": [
    {
     "data": {
      "text/plain": [
       "array(['0-4', '5-9', '10-14', '15-19', '20-24', '25-29', '30-34', '35-39',\n",
       "       '40-44', '45-49', '50-54', '55-59', '60-64', '65-69', '70-74',\n",
       "       '75-79', '80-84', '85-89', '90-94', '95-99', '100+'], dtype=object)"
      ]
     },
     "execution_count": 22,
     "metadata": {},
     "output_type": "execute_result"
    }
   ],
   "source": [
    "age_stand_data_need['AgeGrp'] = age_stand_data_need['AgeGrp'].replace({'05-Sep':'5-9','Oct-14':'10-14'})\n",
    "age_stand_data_need['AgeGrp'].unique()"
   ]
  },
  {
   "cell_type": "markdown",
   "id": "016b7352",
   "metadata": {},
   "source": [
    "4) Creation of the \"Table of age-specific death rates of COPD\" - using the data in this exercise heading"
   ]
  },
  {
   "cell_type": "code",
   "execution_count": 57,
   "id": "68386cf1",
   "metadata": {},
   "outputs": [
    {
     "data": {
      "text/html": [
       "<div>\n",
       "<style scoped>\n",
       "    .dataframe tbody tr th:only-of-type {\n",
       "        vertical-align: middle;\n",
       "    }\n",
       "\n",
       "    .dataframe tbody tr th {\n",
       "        vertical-align: top;\n",
       "    }\n",
       "\n",
       "    .dataframe thead th {\n",
       "        text-align: right;\n",
       "    }\n",
       "</style>\n",
       "<table border=\"1\" class=\"dataframe\">\n",
       "  <thead>\n",
       "    <tr style=\"text-align: right;\">\n",
       "      <th></th>\n",
       "      <th>Age group (years)</th>\n",
       "      <th>Death rate, United States, 2019</th>\n",
       "      <th>Death rate, Uganda, 2019</th>\n",
       "    </tr>\n",
       "  </thead>\n",
       "  <tbody>\n",
       "    <tr>\n",
       "      <th>0</th>\n",
       "      <td>0-4</td>\n",
       "      <td>0.04</td>\n",
       "      <td>0.40</td>\n",
       "    </tr>\n",
       "    <tr>\n",
       "      <th>1</th>\n",
       "      <td>5-9</td>\n",
       "      <td>0.02</td>\n",
       "      <td>0.17</td>\n",
       "    </tr>\n",
       "    <tr>\n",
       "      <th>2</th>\n",
       "      <td>10-14</td>\n",
       "      <td>0.02</td>\n",
       "      <td>0.07</td>\n",
       "    </tr>\n",
       "    <tr>\n",
       "      <th>3</th>\n",
       "      <td>15-19</td>\n",
       "      <td>0.02</td>\n",
       "      <td>0.23</td>\n",
       "    </tr>\n",
       "    <tr>\n",
       "      <th>4</th>\n",
       "      <td>20-24</td>\n",
       "      <td>0.06</td>\n",
       "      <td>0.38</td>\n",
       "    </tr>\n",
       "    <tr>\n",
       "      <th>5</th>\n",
       "      <td>25-29</td>\n",
       "      <td>0.11</td>\n",
       "      <td>0.40</td>\n",
       "    </tr>\n",
       "    <tr>\n",
       "      <th>6</th>\n",
       "      <td>30-34</td>\n",
       "      <td>0.29</td>\n",
       "      <td>0.75</td>\n",
       "    </tr>\n",
       "    <tr>\n",
       "      <th>7</th>\n",
       "      <td>35-39</td>\n",
       "      <td>0.56</td>\n",
       "      <td>1.11</td>\n",
       "    </tr>\n",
       "    <tr>\n",
       "      <th>8</th>\n",
       "      <td>40-44</td>\n",
       "      <td>1.42</td>\n",
       "      <td>2.04</td>\n",
       "    </tr>\n",
       "    <tr>\n",
       "      <th>9</th>\n",
       "      <td>45-49</td>\n",
       "      <td>4.00</td>\n",
       "      <td>13.26</td>\n",
       "    </tr>\n",
       "    <tr>\n",
       "      <th>10</th>\n",
       "      <td>50-54</td>\n",
       "      <td>14.13</td>\n",
       "      <td>5.51</td>\n",
       "    </tr>\n",
       "    <tr>\n",
       "      <th>11</th>\n",
       "      <td>55-59</td>\n",
       "      <td>37.22</td>\n",
       "      <td>33.25</td>\n",
       "    </tr>\n",
       "    <tr>\n",
       "      <th>12</th>\n",
       "      <td>60-64</td>\n",
       "      <td>66.48</td>\n",
       "      <td>69.62</td>\n",
       "    </tr>\n",
       "    <tr>\n",
       "      <th>13</th>\n",
       "      <td>65-69</td>\n",
       "      <td>108.66</td>\n",
       "      <td>120.78</td>\n",
       "    </tr>\n",
       "    <tr>\n",
       "      <th>14</th>\n",
       "      <td>70-74</td>\n",
       "      <td>213.10</td>\n",
       "      <td>229.88</td>\n",
       "    </tr>\n",
       "    <tr>\n",
       "      <th>15</th>\n",
       "      <td>75-79</td>\n",
       "      <td>333.06</td>\n",
       "      <td>341.06</td>\n",
       "    </tr>\n",
       "    <tr>\n",
       "      <th>16</th>\n",
       "      <td>80-84</td>\n",
       "      <td>491.10</td>\n",
       "      <td>529.31</td>\n",
       "    </tr>\n",
       "    <tr>\n",
       "      <th>17</th>\n",
       "      <td>85+</td>\n",
       "      <td>894.45</td>\n",
       "      <td>710.40</td>\n",
       "    </tr>\n",
       "  </tbody>\n",
       "</table>\n",
       "</div>"
      ],
      "text/plain": [
       "   Age group (years)  Death rate, United States, 2019  \\\n",
       "0                0-4                             0.04   \n",
       "1                5-9                             0.02   \n",
       "2              10-14                             0.02   \n",
       "3              15-19                             0.02   \n",
       "4              20-24                             0.06   \n",
       "5              25-29                             0.11   \n",
       "6              30-34                             0.29   \n",
       "7              35-39                             0.56   \n",
       "8              40-44                             1.42   \n",
       "9              45-49                             4.00   \n",
       "10             50-54                            14.13   \n",
       "11             55-59                            37.22   \n",
       "12             60-64                            66.48   \n",
       "13             65-69                           108.66   \n",
       "14             70-74                           213.10   \n",
       "15             75-79                           333.06   \n",
       "16             80-84                           491.10   \n",
       "17               85+                           894.45   \n",
       "\n",
       "    Death rate, Uganda, 2019  \n",
       "0                       0.40  \n",
       "1                       0.17  \n",
       "2                       0.07  \n",
       "3                       0.23  \n",
       "4                       0.38  \n",
       "5                       0.40  \n",
       "6                       0.75  \n",
       "7                       1.11  \n",
       "8                       2.04  \n",
       "9                      13.26  \n",
       "10                      5.51  \n",
       "11                     33.25  \n",
       "12                     69.62  \n",
       "13                    120.78  \n",
       "14                    229.88  \n",
       "15                    341.06  \n",
       "16                    529.31  \n",
       "17                    710.40  "
      ]
     },
     "execution_count": 57,
     "metadata": {},
     "output_type": "execute_result"
    }
   ],
   "source": [
    "Age_specific_death_rate = pd.DataFrame({'Age group (years)':['0-4','5-9','10-14','15-19','20-24','25-29','30-34','35-39','40-44','45-49','50-54','55-59','60-64','65-69','70-74','75-79','80-84','85+']\n",
    "                                       ,'Death rate, United States, 2019':[0.04,0.02,0.02,0.02,0.06,0.11,0.29,0.56,1.42,4.00,14.13,37.22,66.48,108.66,213.1,333.06,491.10,894.45]\n",
    "                                       ,'Death rate, Uganda, 2019':[0.40,0.17,0.07,0.23,0.38,0.40,0.75,1.11,2.04,13.26,5.51,33.25,69.62,120.78,229.88,341.06,529.31,710.40]\n",
    "                                       })\n",
    "Age_specific_death_rate"
   ]
  },
  {
   "cell_type": "markdown",
   "id": "4751f6db",
   "metadata": {},
   "source": [
    "5) As there were more age groups in the database 1) compared with the table 3), the age groups [85-89],[90-94],[95-99] and [100+] and respective population were compacted into only one Age Group [85+]"
   ]
  },
  {
   "cell_type": "code",
   "execution_count": 24,
   "id": "8db231dc",
   "metadata": {},
   "outputs": [
    {
     "data": {
      "text/html": [
       "<div>\n",
       "<style scoped>\n",
       "    .dataframe tbody tr th:only-of-type {\n",
       "        vertical-align: middle;\n",
       "    }\n",
       "\n",
       "    .dataframe tbody tr th {\n",
       "        vertical-align: top;\n",
       "    }\n",
       "\n",
       "    .dataframe thead th {\n",
       "        text-align: right;\n",
       "    }\n",
       "</style>\n",
       "<table border=\"1\" class=\"dataframe\">\n",
       "  <thead>\n",
       "    <tr style=\"text-align: right;\">\n",
       "      <th></th>\n",
       "      <th>Location</th>\n",
       "      <th>PopTotal</th>\n",
       "      <th>AgeGrp</th>\n",
       "    </tr>\n",
       "  </thead>\n",
       "  <tbody>\n",
       "    <tr>\n",
       "      <th>0</th>\n",
       "      <td>Uganda</td>\n",
       "      <td>19.510</td>\n",
       "      <td>85+</td>\n",
       "    </tr>\n",
       "    <tr>\n",
       "      <th>1</th>\n",
       "      <td>United States of America</td>\n",
       "      <td>6218.032</td>\n",
       "      <td>85+</td>\n",
       "    </tr>\n",
       "  </tbody>\n",
       "</table>\n",
       "</div>"
      ],
      "text/plain": [
       "                   Location  PopTotal AgeGrp\n",
       "0                    Uganda    19.510    85+\n",
       "1  United States of America  6218.032    85+"
      ]
     },
     "execution_count": 24,
     "metadata": {},
     "output_type": "execute_result"
    }
   ],
   "source": [
    "age_stand_newAgeGrp =age_stand_data_need.loc[(age_stand_data_need['AgeGrp'] =='85-89')\n",
    "                                        |(age_stand_data_need['AgeGrp'] =='90-94')\n",
    "                                        |(age_stand_data_need['AgeGrp'] =='95-99')\n",
    "                                        |(age_stand_data_need['AgeGrp'] =='100+')\n",
    "                                        ]\n",
    "\n",
    "age_stand_newAgeGrp=age_stand_newAgeGrp.groupby(['Location']).sum('PopTotal').reset_index()\n",
    "\n",
    "age_stand_newAgeGrp['AgeGrp'] ='85+'\n",
    "\n",
    "age_stand_newAgeGrp"
   ]
  },
  {
   "cell_type": "markdown",
   "id": "26b27d87",
   "metadata": {},
   "source": [
    "Adding the new [85+] rows and deleting [85-89],[90-94],[95-99] and [100+] rows on the main database"
   ]
  },
  {
   "cell_type": "code",
   "execution_count": 25,
   "id": "0150a48f",
   "metadata": {},
   "outputs": [],
   "source": [
    "age_stand_data_amend=pd.concat([age_stand_data_need,age_stand_newAgeGrp])\n",
    "\n",
    "entries_deleted = age_stand_data_amend.loc[(age_stand_data_amend['AgeGrp'] =='85-89')\n",
    "                                          |(age_stand_data_amend['AgeGrp'] =='90-94')\n",
    "                                          |(age_stand_data_amend['AgeGrp'] =='95-99')\n",
    "                                          |(age_stand_data_amend['AgeGrp'] =='100+')\n",
    "                                          ]\n",
    "age_stand_data_amend = age_stand_data_amend.drop(entries_deleted.index)\n",
    "age_stand_data_amend.reset_index(drop=True, inplace=True)"
   ]
  },
  {
   "cell_type": "markdown",
   "id": "865ccb86",
   "metadata": {},
   "source": [
    "### 6) Calculation of the Age-standardized death rate per country "
   ]
  },
  {
   "cell_type": "markdown",
   "id": "5f9955c8",
   "metadata": {},
   "source": [
    "*Age-standardized death rate for COPD for all ages in United States for 2019.*"
   ]
  },
  {
   "cell_type": "code",
   "execution_count": 58,
   "id": "18d5c883",
   "metadata": {},
   "outputs": [
    {
     "data": {
      "text/plain": [
       "56.9"
      ]
     },
     "execution_count": 58,
     "metadata": {},
     "output_type": "execute_result"
    }
   ],
   "source": [
    "USA_pop_GrpAge = age_stand_data_amend.loc[(age_stand_data_amend['Location']=='United States of America'),'PopTotal']\n",
    "USA_pop_GrpAge.reset_index(drop=True, inplace=True)\n",
    "\n",
    "USA_total_pop = float(data_filt_bycountry.loc[(data_filt_bycountry.index=='United States of America','TPopulation1Jan')])\n",
    "\n",
    "age_standartized_USA = round(sum(Age_specific_death_rate['Death rate, United States, 2019']*(USA_pop_GrpAge)/USA_total_pop),1)\n",
    "age_standartized_USA"
   ]
  },
  {
   "cell_type": "markdown",
   "id": "50fb2d7a",
   "metadata": {},
   "source": [
    "*Age-standardized death rate for COPD for all ages in Uganda for 2019.*"
   ]
  },
  {
   "cell_type": "code",
   "execution_count": 68,
   "id": "6f49113b",
   "metadata": {},
   "outputs": [
    {
     "data": {
      "text/plain": [
       "5.8"
      ]
     },
     "execution_count": 68,
     "metadata": {},
     "output_type": "execute_result"
    }
   ],
   "source": [
    "Uganda_pop_GrpAge = age_stand_data_amend.loc[(age_stand_data_amend['Location']=='Uganda'),'PopTotal']\n",
    "Uganda_pop_GrpAge.reset_index(drop=True, inplace=True)\n",
    "\n",
    "Uganda_total_pop = float(data_filt_bycountry.loc[(data_filt_bycountry.index=='Uganda','TPopulation1Jan')])\n",
    "\n",
    "age_standartized_Uganda = round(sum(Age_specific_death_rate['Death rate, Uganda, 2019']*(Uganda_pop_GrpAge/Uganda_total_pop)),1)\n",
    "age_standartized_Uganda"
   ]
  },
  {
   "cell_type": "markdown",
   "id": "3b48718f",
   "metadata": {},
   "source": [
    "### Note: Crude Death Date and Age standardized death rate are different for each country as the number of deaths used was from the database and not calculated from the [death rates] plus [Country_pop_GrpAge]"
   ]
  },
  {
   "cell_type": "code",
   "execution_count": null,
   "id": "e3f69e27",
   "metadata": {},
   "outputs": [],
   "source": []
  },
  {
   "cell_type": "code",
   "execution_count": null,
   "id": "1d5a8e22",
   "metadata": {},
   "outputs": [],
   "source": []
  },
  {
   "cell_type": "code",
   "execution_count": null,
   "id": "63b7902a",
   "metadata": {},
   "outputs": [],
   "source": []
  }
 ],
 "metadata": {
  "kernelspec": {
   "display_name": "Python 3 (ipykernel)",
   "language": "python",
   "name": "python3"
  },
  "language_info": {
   "codemirror_mode": {
    "name": "ipython",
    "version": 3
   },
   "file_extension": ".py",
   "mimetype": "text/x-python",
   "name": "python",
   "nbconvert_exporter": "python",
   "pygments_lexer": "ipython3",
   "version": "3.10.9"
  }
 },
 "nbformat": 4,
 "nbformat_minor": 5
}
